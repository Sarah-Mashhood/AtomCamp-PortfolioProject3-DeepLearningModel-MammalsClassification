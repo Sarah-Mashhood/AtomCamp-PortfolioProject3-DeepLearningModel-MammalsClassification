{
  "nbformat": 4,
  "nbformat_minor": 0,
  "metadata": {
    "colab": {
      "provenance": [],
      "gpuType": "T4"
    },
    "kernelspec": {
      "name": "python3",
      "display_name": "Python 3"
    },
    "language_info": {
      "name": "python"
    },
    "accelerator": "GPU"
  },
  "cells": [
    {
      "cell_type": "code",
      "execution_count": 1,
      "metadata": {
        "id": "qeAo1n9eZT1X"
      },
      "outputs": [],
      "source": [
        "!mkdir -p ~/.kaggle\n",
        "!cp kaggle.json ~/.kaggle/"
      ]
    },
    {
      "cell_type": "code",
      "source": [
        "!kaggle datasets download -d asaniczka/mammals-image-classification-dataset-45-animals"
      ],
      "metadata": {
        "colab": {
          "base_uri": "https://localhost:8080/"
        },
        "id": "nyzToq1fbqsZ",
        "outputId": "fe824ea7-7b9f-4c62-bccc-00a3ba23749d"
      },
      "execution_count": 2,
      "outputs": [
        {
          "output_type": "stream",
          "name": "stdout",
          "text": [
            "Warning: Your Kaggle API key is readable by other users on this system! To fix this, you can run 'chmod 600 /root/.kaggle/kaggle.json'\n",
            "Downloading mammals-image-classification-dataset-45-animals.zip to /content\n",
            " 99% 183M/185M [00:07<00:00, 29.9MB/s]\n",
            "100% 185M/185M [00:07<00:00, 27.3MB/s]\n"
          ]
        }
      ]
    },
    {
      "cell_type": "code",
      "source": [
        "import zipfile\n",
        "zip_ref = zipfile.ZipFile('/content/mammals-image-classification-dataset-45-animals.zip', 'r')\n",
        "zip_ref.extractall('/content')\n",
        "zip_ref.close()"
      ],
      "metadata": {
        "id": "ObqcZ7GfcMkF"
      },
      "execution_count": 3,
      "outputs": []
    },
    {
      "cell_type": "code",
      "source": [
        "import os\n",
        "import numpy as np\n",
        "import shutil\n",
        "from tensorflow.keras.preprocessing.image import ImageDataGenerator\n",
        "from tensorflow.keras.models import Sequential\n",
        "from tensorflow.keras.layers import Conv2D, MaxPooling2D, Flatten, Dense, Dropout\n",
        "from tensorflow.keras.applications import VGG16\n",
        "from tensorflow.keras import layers, models, optimizers\n",
        "from tensorflow.keras.callbacks import EarlyStopping,  ModelCheckpoint\n",
        "import matplotlib.pyplot as plt\n"
      ],
      "metadata": {
        "id": "mJYNNoO9eL8h"
      },
      "execution_count": 7,
      "outputs": []
    },
    {
      "cell_type": "code",
      "source": [
        "# Correct path to the main directory\n",
        "main_dir = '/content/mammals'\n",
        "\n",
        "# Creating train, validation, and test directories\n",
        "base_dir = '/content/mammals_split'\n",
        "for dir in ['train', 'validation', 'test']:\n",
        "    if not os.path.exists(os.path.join(base_dir, dir)):\n",
        "        os.makedirs(os.path.join(base_dir, dir))\n",
        "\n",
        "# Splitting data into train, validation, and test sets\n",
        "for species in os.listdir(main_dir):\n",
        "    species_dir = os.path.join(main_dir, species)\n",
        "    images = os.listdir(species_dir)\n",
        "    np.random.shuffle(images)\n",
        "    train_split = int(0.7 * len(images))\n",
        "    val_split = int(0.85 * len(images))\n",
        "\n",
        "    for i, img in enumerate(images):\n",
        "        if i < train_split:\n",
        "            dest_dir = os.path.join(base_dir, 'train', species)\n",
        "        elif i < val_split:\n",
        "            dest_dir = os.path.join(base_dir, 'validation', species)\n",
        "        else:\n",
        "            dest_dir = os.path.join(base_dir, 'test', species)\n",
        "\n",
        "        if not os.path.exists(dest_dir):\n",
        "            os.makedirs(dest_dir)\n",
        "\n",
        "        shutil.copy(os.path.join(species_dir, img), os.path.join(dest_dir, img))\n",
        "\n",
        "# Set up ImageDataGenerators\n",
        "train_datagen = ImageDataGenerator(rescale=1./255, rotation_range=40, width_shift_range=0.2,\n",
        "                                   height_shift_range=0.2, shear_range=0.2, zoom_range=0.2,\n",
        "                                   horizontal_flip=True, fill_mode='nearest')\n",
        "\n",
        "valid_datagen = ImageDataGenerator(rescale=1./255)\n",
        "test_datagen = ImageDataGenerator(rescale=1./255)\n",
        "\n",
        "# Load images from directories\n",
        "train_generator = train_datagen.flow_from_directory(os.path.join(base_dir, 'train'),\n",
        "                                                    target_size=(256, 256), batch_size=32,\n",
        "                                                    class_mode='categorical')\n",
        "\n",
        "validation_generator = valid_datagen.flow_from_directory(os.path.join(base_dir, 'validation'),\n",
        "                                                         target_size=(256, 256), batch_size=32,\n",
        "                                                         class_mode='categorical')\n",
        "\n",
        "test_generator = test_datagen.flow_from_directory(os.path.join(base_dir, 'test'),\n",
        "                                                  target_size=(256, 256), batch_size=32,\n",
        "                                                  class_mode='categorical')\n"
      ],
      "metadata": {
        "colab": {
          "base_uri": "https://localhost:8080/"
        },
        "id": "a4nPHwNNeRom",
        "outputId": "4f0a0dd2-e697-4fdd-e84f-f7d5366113ec"
      },
      "execution_count": 8,
      "outputs": [
        {
          "output_type": "stream",
          "name": "stdout",
          "text": [
            "Found 9602 images belonging to 45 classes.\n",
            "Found 2064 images belonging to 45 classes.\n",
            "Found 2085 images belonging to 45 classes.\n"
          ]
        }
      ]
    },
    {
      "cell_type": "code",
      "source": [
        "# Building a simple CNN model\n",
        "model = Sequential()\n",
        "model.add(Conv2D(32, (3, 3), activation='relu', input_shape=(256, 256, 3)))\n",
        "model.add(MaxPooling2D(2, 2))\n",
        "model.add(Conv2D(64, (3, 3), activation='relu'))\n",
        "model.add(MaxPooling2D(2, 2))\n",
        "model.add(Flatten())\n",
        "model.add(Dense(512, activation='relu'))\n",
        "model.add(Dense(45, activation='softmax'))  # 45 classes\n",
        "\n",
        "# Compile the model\n",
        "model.compile(loss='categorical_crossentropy', optimizer='adam', metrics=['accuracy'])\n",
        "\n",
        "# Train the model\n",
        "history = model.fit(train_generator, steps_per_epoch=100, epochs=15,\n",
        "                    validation_data=validation_generator, validation_steps=50)\n"
      ],
      "metadata": {
        "colab": {
          "base_uri": "https://localhost:8080/"
        },
        "id": "zzzYbxOnevkM",
        "outputId": "a7212a2d-be66-48b4-a9aa-a980172d5622"
      },
      "execution_count": 9,
      "outputs": [
        {
          "output_type": "stream",
          "name": "stdout",
          "text": [
            "Epoch 1/15\n",
            "100/100 [==============================] - 70s 632ms/step - loss: 5.3353 - accuracy: 0.0494 - val_loss: 3.5886 - val_accuracy: 0.0913\n",
            "Epoch 2/15\n",
            "100/100 [==============================] - 60s 597ms/step - loss: 3.5645 - accuracy: 0.0878 - val_loss: 3.4258 - val_accuracy: 0.1163\n",
            "Epoch 3/15\n",
            "100/100 [==============================] - 59s 594ms/step - loss: 3.4887 - accuracy: 0.1019 - val_loss: 3.5106 - val_accuracy: 0.1112\n",
            "Epoch 4/15\n",
            "100/100 [==============================] - 57s 574ms/step - loss: 3.4152 - accuracy: 0.1172 - val_loss: 3.2440 - val_accuracy: 0.1506\n",
            "Epoch 5/15\n",
            "100/100 [==============================] - 59s 594ms/step - loss: 3.3293 - accuracy: 0.1319 - val_loss: 3.1144 - val_accuracy: 0.1800\n",
            "Epoch 6/15\n",
            "100/100 [==============================] - 59s 591ms/step - loss: 3.2864 - accuracy: 0.1406 - val_loss: 3.1099 - val_accuracy: 0.1825\n",
            "Epoch 7/15\n",
            "100/100 [==============================] - 66s 666ms/step - loss: 3.1781 - accuracy: 0.1631 - val_loss: 3.0989 - val_accuracy: 0.1794\n",
            "Epoch 8/15\n",
            "100/100 [==============================] - 59s 583ms/step - loss: 3.1217 - accuracy: 0.1706 - val_loss: 3.0015 - val_accuracy: 0.2194\n",
            "Epoch 9/15\n",
            "100/100 [==============================] - 59s 595ms/step - loss: 3.1259 - accuracy: 0.1847 - val_loss: 3.0237 - val_accuracy: 0.2019\n",
            "Epoch 10/15\n",
            "100/100 [==============================] - 57s 569ms/step - loss: 3.0795 - accuracy: 0.1820 - val_loss: 2.9783 - val_accuracy: 0.2194\n",
            "Epoch 11/15\n",
            "100/100 [==============================] - 64s 637ms/step - loss: 3.0669 - accuracy: 0.1787 - val_loss: 2.9771 - val_accuracy: 0.2144\n",
            "Epoch 12/15\n",
            "100/100 [==============================] - 57s 574ms/step - loss: 2.9945 - accuracy: 0.2082 - val_loss: 2.8435 - val_accuracy: 0.2281\n",
            "Epoch 13/15\n",
            "100/100 [==============================] - 58s 578ms/step - loss: 2.9478 - accuracy: 0.2128 - val_loss: 2.7773 - val_accuracy: 0.2456\n",
            "Epoch 14/15\n",
            "100/100 [==============================] - 59s 586ms/step - loss: 2.9111 - accuracy: 0.2250 - val_loss: 2.7592 - val_accuracy: 0.2562\n",
            "Epoch 15/15\n",
            "100/100 [==============================] - 59s 592ms/step - loss: 2.8547 - accuracy: 0.2416 - val_loss: 2.7747 - val_accuracy: 0.2544\n"
          ]
        }
      ]
    },
    {
      "cell_type": "code",
      "source": [
        "# Evaluate the model on the validation set\n",
        "val_loss, val_accuracy = model.evaluate(validation_generator)\n",
        "print(f'Validation accuracy: {val_accuracy*100:.2f}%')\n"
      ],
      "metadata": {
        "colab": {
          "base_uri": "https://localhost:8080/"
        },
        "id": "JOttEJJ1fhSJ",
        "outputId": "7dc79cde-52a3-4dfd-af5d-cd918867495b"
      },
      "execution_count": 10,
      "outputs": [
        {
          "output_type": "stream",
          "name": "stdout",
          "text": [
            "65/65 [==============================] - 4s 64ms/step - loss: 2.7931 - accuracy: 0.2519\n",
            "Validation accuracy: 25.19%\n"
          ]
        }
      ]
    },
    {
      "cell_type": "code",
      "source": [
        "plt.plot(history.history['accuracy'],color='red',label='train')\n",
        "plt.plot(history.history['val_accuracy'],color='blue',label='validation')\n",
        "plt.legend()\n",
        "plt.show()"
      ],
      "metadata": {
        "colab": {
          "base_uri": "https://localhost:8080/",
          "height": 430
        },
        "id": "q0S8kpeLfvru",
        "outputId": "bfbc79c6-fb0a-4438-86e5-10010de04039"
      },
      "execution_count": 11,
      "outputs": [
        {
          "output_type": "display_data",
          "data": {
            "text/plain": [
              "<Figure size 640x480 with 1 Axes>"
            ],
            "image/png": "[encoded data removed]"
          },
          "metadata": {}
        }
      ]
    },
    {
      "cell_type": "code",
      "source": [
        "model.save('cnn_model.h5')"
      ],
      "metadata": {
        "colab": {
          "base_uri": "https://localhost:8080/",
          "height": 175
        },
        "id": "ygHC0DVffNN6",
        "outputId": "c2b7266e-9653-4943-eb97-d30a7eb967a1"
      },
      "execution_count": 1,
      "outputs": [
        {
          "output_type": "error",
          "ename": "NameError",
          "evalue": "ignored",
          "traceback": [
            "\u001b[0;31m---------------------------------------------------------------------------\u001b[0m",
            "\u001b[0;31mNameError\u001b[0m                                 Traceback (most recent call last)",
            "\u001b[0;32m<ipython-input-1-a1f2056eac31>\u001b[0m in \u001b[0;36m<cell line: 1>\u001b[0;34m()\u001b[0m\n\u001b[0;32m----> 1\u001b[0;31m \u001b[0mmodel\u001b[0m\u001b[0;34m.\u001b[0m\u001b[0msave\u001b[0m\u001b[0;34m(\u001b[0m\u001b[0;34m'cnn_model.h5'\u001b[0m\u001b[0;34m)\u001b[0m\u001b[0;34m\u001b[0m\u001b[0;34m\u001b[0m\u001b[0m\n\u001b[0m",
            "\u001b[0;31mNameError\u001b[0m: name 'model' is not defined"
          ]
        }
      ]
    },
    {
      "cell_type": "code",
      "source": [
        "# Model Building: VGG16 with Transfer Learning\n",
        "base_model = VGG16(weights='imagenet', include_top=False, input_shape=(256, 256, 3))\n",
        "\n",
        "# Freeze the base_model\n",
        "base_model.trainable = False\n",
        "\n",
        "# Create the model\n",
        "model = models.Sequential()\n",
        "model.add(base_model)\n",
        "model.add(layers.Flatten())\n",
        "model.add(layers.Dense(512, activation='relu'))\n",
        "model.add(layers.Dropout(0.5))\n",
        "model.add(layers.Dense(45, activation='softmax'))  # 45 classes\n",
        "\n",
        "# Compile the model\n",
        "model.compile(optimizer=optimizers.Adam(lr=1e-4),\n",
        "              loss='categorical_crossentropy',\n",
        "              metrics=['accuracy'])\n",
        "\n",
        "# Callbacks\n",
        "early_stopping = EarlyStopping(monitor='val_loss', patience=10)\n",
        "checkpoint = ModelCheckpoint(filepath='best_model.h5', monitor='val_loss', save_best_only=True)\n",
        "\n",
        "# Train the model\n",
        "history = model.fit(train_generator,\n",
        "                    steps_per_epoch=100,\n",
        "                    epochs=30,\n",
        "                    validation_data=validation_generator,\n",
        "                    validation_steps=50,\n",
        "                    callbacks=[early_stopping, checkpoint])\n"
      ],
      "metadata": {
        "colab": {
          "base_uri": "https://localhost:8080/"
        },
        "id": "BiJx1SJMmi3j",
        "outputId": "1930d9c0-471d-4d57-b862-64b908b11679"
      },
      "execution_count": null,
      "outputs": [
        {
          "output_type": "stream",
          "name": "stderr",
          "text": [
            "WARNING:absl:`lr` is deprecated in Keras optimizer, please use `learning_rate` or use the legacy optimizer, e.g.,tf.keras.optimizers.legacy.Adam.\n"
          ]
        },
        {
          "output_type": "stream",
          "name": "stdout",
          "text": [
            "Epoch 1/30\n",
            "100/100 [==============================] - ETA: 0s - loss: 4.4843 - accuracy: 0.0272"
          ]
        },
        {
          "output_type": "stream",
          "name": "stderr",
          "text": [
            "/usr/local/lib/python3.10/dist-packages/keras/src/engine/training.py:3103: UserWarning: You are saving your model as an HDF5 file via `model.save()`. This file format is considered legacy. We recommend using instead the native Keras format, e.g. `model.save('my_model.keras')`.\n",
            "  saving_api.save_model(\n"
          ]
        },
        {
          "output_type": "stream",
          "name": "stdout",
          "text": [
            "\b\b\b\b\b\b\b\b\b\b\b\b\b\b\b\b\b\b\b\b\b\b\b\b\b\b\b\b\b\b\b\b\b\b\b\b\b\b\b\b\b\b\b\b\b\b\b\b\b\b\b\b\b\b\b\b\b\b\b\b\b\b\b\b\b\b\b\b\b\b\b\b\b\b\b\b\b\b\b\b\b\b\b\b\r100/100 [==============================] - 81s 710ms/step - loss: 4.4843 - accuracy: 0.0272 - val_loss: 3.8048 - val_accuracy: 0.0237\n",
            "Epoch 2/30\n",
            "100/100 [==============================] - 67s 667ms/step - loss: 3.8038 - accuracy: 0.0241 - val_loss: 3.7736 - val_accuracy: 0.0525\n",
            "Epoch 3/30\n",
            "100/100 [==============================] - 65s 653ms/step - loss: 3.7772 - accuracy: 0.0347 - val_loss: 3.7176 - val_accuracy: 0.0419\n",
            "Epoch 4/30\n",
            "100/100 [==============================] - 66s 660ms/step - loss: 3.7536 - accuracy: 0.0379 - val_loss: 3.7525 - val_accuracy: 0.0450\n",
            "Epoch 5/30\n",
            "100/100 [==============================] - 67s 672ms/step - loss: 3.7525 - accuracy: 0.0331 - val_loss: 3.6949 - val_accuracy: 0.0500\n",
            "Epoch 6/30\n",
            "100/100 [==============================] - 70s 704ms/step - loss: 3.7472 - accuracy: 0.0391 - val_loss: 3.6694 - val_accuracy: 0.0406\n",
            "Epoch 7/30\n",
            "100/100 [==============================] - 67s 670ms/step - loss: 3.7307 - accuracy: 0.0397 - val_loss: 3.6810 - val_accuracy: 0.0506\n",
            "Epoch 8/30\n",
            "100/100 [==============================] - 67s 670ms/step - loss: 3.7303 - accuracy: 0.0391 - val_loss: 3.6470 - val_accuracy: 0.0506\n",
            "Epoch 9/30\n",
            "100/100 [==============================] - 71s 708ms/step - loss: 3.7370 - accuracy: 0.0344 - val_loss: 3.6451 - val_accuracy: 0.0519\n",
            "Epoch 10/30\n",
            "100/100 [==============================] - 66s 655ms/step - loss: 3.7252 - accuracy: 0.0375 - val_loss: 3.6587 - val_accuracy: 0.0594\n",
            "Epoch 11/30\n",
            "100/100 [==============================] - 66s 660ms/step - loss: 3.7320 - accuracy: 0.0331 - val_loss: 3.6500 - val_accuracy: 0.0569\n",
            "Epoch 12/30\n",
            "100/100 [==============================] - 71s 711ms/step - loss: 3.7156 - accuracy: 0.0384 - val_loss: 3.6436 - val_accuracy: 0.0525\n",
            "Epoch 13/30\n",
            "100/100 [==============================] - 72s 719ms/step - loss: 3.7380 - accuracy: 0.0375 - val_loss: 3.6395 - val_accuracy: 0.0538\n",
            "Epoch 14/30\n",
            "100/100 [==============================] - 66s 656ms/step - loss: 3.7280 - accuracy: 0.0394 - val_loss: 3.6415 - val_accuracy: 0.0481\n",
            "Epoch 15/30\n",
            "100/100 [==============================] - 65s 645ms/step - loss: 3.7282 - accuracy: 0.0331 - val_loss: 3.6740 - val_accuracy: 0.0500\n",
            "Epoch 16/30\n",
            "100/100 [==============================] - 65s 645ms/step - loss: 3.7149 - accuracy: 0.0423 - val_loss: 3.6660 - val_accuracy: 0.0500\n",
            "Epoch 17/30\n",
            "100/100 [==============================] - 68s 679ms/step - loss: 3.7217 - accuracy: 0.0344 - val_loss: 3.6263 - val_accuracy: 0.0550\n",
            "Epoch 18/30\n",
            "100/100 [==============================] - 67s 673ms/step - loss: 3.7214 - accuracy: 0.0350 - val_loss: 3.6062 - val_accuracy: 0.0506\n",
            "Epoch 19/30\n",
            "100/100 [==============================] - 65s 648ms/step - loss: 3.7086 - accuracy: 0.0397 - val_loss: 3.6126 - val_accuracy: 0.0587\n",
            "Epoch 20/30\n",
            "100/100 [==============================] - 63s 633ms/step - loss: 3.7156 - accuracy: 0.0353 - val_loss: 3.6245 - val_accuracy: 0.0481\n",
            "Epoch 21/30\n",
            "100/100 [==============================] - 66s 658ms/step - loss: 3.7323 - accuracy: 0.0328 - val_loss: 3.6613 - val_accuracy: 0.0494\n",
            "Epoch 22/30\n",
            "100/100 [==============================] - 63s 635ms/step - loss: 3.7165 - accuracy: 0.0344 - val_loss: 3.6521 - val_accuracy: 0.0550\n",
            "Epoch 23/30\n",
            "100/100 [==============================] - 67s 665ms/step - loss: 3.7114 - accuracy: 0.0325 - val_loss: 3.6120 - val_accuracy: 0.0619\n",
            "Epoch 24/30\n",
            "100/100 [==============================] - 65s 652ms/step - loss: 3.7039 - accuracy: 0.0353 - val_loss: 3.6081 - val_accuracy: 0.0606\n",
            "Epoch 25/30\n",
            "100/100 [==============================] - 72s 719ms/step - loss: 3.7125 - accuracy: 0.0450 - val_loss: 3.5854 - val_accuracy: 0.0525\n",
            "Epoch 26/30\n",
            "100/100 [==============================] - 66s 659ms/step - loss: 3.7061 - accuracy: 0.0426 - val_loss: 3.5935 - val_accuracy: 0.0525\n",
            "Epoch 27/30\n",
            "100/100 [==============================] - 66s 665ms/step - loss: 3.7145 - accuracy: 0.0382 - val_loss: 3.6097 - val_accuracy: 0.0581\n",
            "Epoch 28/30\n",
            "100/100 [==============================] - 64s 637ms/step - loss: 3.7015 - accuracy: 0.0397 - val_loss: 3.6204 - val_accuracy: 0.0538\n",
            "Epoch 29/30\n",
            "100/100 [==============================] - 73s 728ms/step - loss: 3.7046 - accuracy: 0.0450 - val_loss: 3.5829 - val_accuracy: 0.0544\n",
            "Epoch 30/30\n",
            "100/100 [==============================] - 65s 651ms/step - loss: 3.7066 - accuracy: 0.0413 - val_loss: 3.6265 - val_accuracy: 0.0556\n"
          ]
        }
      ]
    },
    {
      "cell_type": "code",
      "source": [],
      "metadata": {
        "id": "YNqjofAzO0CL"
      },
      "execution_count": null,
      "outputs": []
    }
  ]
}